{
 "cells": [
  {
   "cell_type": "markdown",
   "metadata": {},
   "source": [
    "# The Askeladden Algorithm - Initial Dataset Creation <a class=\"tocSkip\">"
   ]
  },
  {
   "cell_type": "markdown",
   "metadata": {},
   "source": [
    "## W207 | Applied Machine Learning | Spring 2019<a class=\"tocSkip\">"
   ]
  },
  {
   "cell_type": "markdown",
   "metadata": {},
   "source": [
    "### Team Troll Trappers: Laura Pintos, Ramiro Cadavid, and Anna Jacobson<a class=\"tocSkip\">"
   ]
  },
  {
   "cell_type": "code",
   "execution_count": 2,
   "metadata": {
    "collapsed": true
   },
   "outputs": [],
   "source": [
    "# General libraries.\n",
    "import numpy as np\n",
    "import pandas as pd\n",
    "import csv\n",
    "import re"
   ]
  },
  {
   "cell_type": "markdown",
   "metadata": {},
   "source": [
    "### Troll Dataset"
   ]
  },
  {
   "cell_type": "code",
   "execution_count": 13,
   "metadata": {
    "collapsed": true
   },
   "outputs": [],
   "source": [
    "# Read in csv file.\n",
    "df = pd.read_csv(\"ira_tweets_english.csv\", dtype=object)"
   ]
  },
  {
   "cell_type": "code",
   "execution_count": 14,
   "metadata": {
    "collapsed": true
   },
   "outputs": [],
   "source": [
    "# Create new column for tweet year.\n",
    "df['tweet_year'] = df['tweet_time'].str[:4].astype('int64')"
   ]
  },
  {
   "cell_type": "code",
   "execution_count": 15,
   "metadata": {
    "collapsed": true
   },
   "outputs": [],
   "source": [
    "# Filter for 2016-2018 tweets.\n",
    "years = ['2016', '2017', '2018']\n",
    "df = df[df['tweet_year'].isin(years)]"
   ]
  },
  {
   "cell_type": "code",
   "execution_count": 16,
   "metadata": {
    "collapsed": true
   },
   "outputs": [],
   "source": [
    "# Filter for user screen names containing specific words.\n",
    "news = ['Daily', 'New', 'Today', 'Online']\n",
    "esc_lst = [re.escape(s) for s in news]\n",
    "pattern = '|'.join(esc_lst)\n",
    "df = df[df['user_screen_name'].str.contains(pattern, case=False)]"
   ]
  },
  {
   "cell_type": "code",
   "execution_count": 18,
   "metadata": {
    "scrolled": true
   },
   "outputs": [
    {
     "data": {
      "text/plain": [
       "(296949, 33)"
      ]
     },
     "execution_count": 18,
     "metadata": {},
     "output_type": "execute_result"
    }
   ],
   "source": [
    "# Check dataframe shape.\n",
    "df.shape"
   ]
  },
  {
   "cell_type": "code",
   "execution_count": 19,
   "metadata": {},
   "outputs": [
    {
     "data": {
      "text/html": [
       "<div>\n",
       "<style scoped>\n",
       "    .dataframe tbody tr th:only-of-type {\n",
       "        vertical-align: middle;\n",
       "    }\n",
       "\n",
       "    .dataframe tbody tr th {\n",
       "        vertical-align: top;\n",
       "    }\n",
       "\n",
       "    .dataframe thead th {\n",
       "        text-align: right;\n",
       "    }\n",
       "</style>\n",
       "<table border=\"1\" class=\"dataframe\">\n",
       "  <thead>\n",
       "    <tr style=\"text-align: right;\">\n",
       "      <th></th>\n",
       "      <th>Unnamed: 0</th>\n",
       "      <th>tweetid</th>\n",
       "      <th>userid</th>\n",
       "      <th>user_display_name</th>\n",
       "      <th>user_screen_name</th>\n",
       "      <th>user_reported_location</th>\n",
       "      <th>user_profile_description</th>\n",
       "      <th>user_profile_url</th>\n",
       "      <th>follower_count</th>\n",
       "      <th>following_count</th>\n",
       "      <th>...</th>\n",
       "      <th>longitude</th>\n",
       "      <th>quote_count</th>\n",
       "      <th>reply_count</th>\n",
       "      <th>like_count</th>\n",
       "      <th>retweet_count</th>\n",
       "      <th>hashtags</th>\n",
       "      <th>urls</th>\n",
       "      <th>user_mentions</th>\n",
       "      <th>poll_choices</th>\n",
       "      <th>tweet_year</th>\n",
       "    </tr>\n",
       "  </thead>\n",
       "  <tbody>\n",
       "    <tr>\n",
       "      <th>1523823</th>\n",
       "      <td>4500995</td>\n",
       "      <td>682713637161549824</td>\n",
       "      <td>2601235821</td>\n",
       "      <td>Pittsburgh Today</td>\n",
       "      <td>TodayPittsburgh</td>\n",
       "      <td>Pittsburgh, PA</td>\n",
       "      <td>Pittsburgh's local news on Twitter. Breaking n...</td>\n",
       "      <td>NaN</td>\n",
       "      <td>20790</td>\n",
       "      <td>10408</td>\n",
       "      <td>...</td>\n",
       "      <td>absent</td>\n",
       "      <td>0.0</td>\n",
       "      <td>0.0</td>\n",
       "      <td>0.0</td>\n",
       "      <td>0.0</td>\n",
       "      <td>[news]</td>\n",
       "      <td>[]</td>\n",
       "      <td>NaN</td>\n",
       "      <td>NaN</td>\n",
       "      <td>2016</td>\n",
       "    </tr>\n",
       "    <tr>\n",
       "      <th>715787</th>\n",
       "      <td>2171579</td>\n",
       "      <td>682714058752012290</td>\n",
       "      <td>3074563039</td>\n",
       "      <td>St. Louis Online</td>\n",
       "      <td>StLouisOnline</td>\n",
       "      <td>St Louis, MO</td>\n",
       "      <td>Breaking news, weather, traffic and more for S...</td>\n",
       "      <td>NaN</td>\n",
       "      <td>10534</td>\n",
       "      <td>8576</td>\n",
       "      <td>...</td>\n",
       "      <td>absent</td>\n",
       "      <td>0.0</td>\n",
       "      <td>0.0</td>\n",
       "      <td>0.0</td>\n",
       "      <td>0.0</td>\n",
       "      <td>[sports]</td>\n",
       "      <td>[]</td>\n",
       "      <td>NaN</td>\n",
       "      <td>NaN</td>\n",
       "      <td>2016</td>\n",
       "    </tr>\n",
       "    <tr>\n",
       "      <th>912484</th>\n",
       "      <td>2737486</td>\n",
       "      <td>682714038904557568</td>\n",
       "      <td>2547141851</td>\n",
       "      <td>Chicago Daily News</td>\n",
       "      <td>ChicagoDailyNew</td>\n",
       "      <td>Chicago, IL</td>\n",
       "      <td>Local news, sports, business, politics, entert...</td>\n",
       "      <td>NaN</td>\n",
       "      <td>23595</td>\n",
       "      <td>13665</td>\n",
       "      <td>...</td>\n",
       "      <td>absent</td>\n",
       "      <td>0.0</td>\n",
       "      <td>0.0</td>\n",
       "      <td>1.0</td>\n",
       "      <td>0.0</td>\n",
       "      <td>[Breaking]</td>\n",
       "      <td>[http://bit.ly/1mSVsvg]</td>\n",
       "      <td>NaN</td>\n",
       "      <td>NaN</td>\n",
       "      <td>2016</td>\n",
       "    </tr>\n",
       "    <tr>\n",
       "      <th>2308615</th>\n",
       "      <td>6775548</td>\n",
       "      <td>682714784526041088</td>\n",
       "      <td>2494112058</td>\n",
       "      <td>San Jose Daily</td>\n",
       "      <td>DailySanJose</td>\n",
       "      <td>USA</td>\n",
       "      <td>Follow for San Jose's breaking news, special r...</td>\n",
       "      <td>NaN</td>\n",
       "      <td>20135</td>\n",
       "      <td>9313</td>\n",
       "      <td>...</td>\n",
       "      <td>absent</td>\n",
       "      <td>0.0</td>\n",
       "      <td>0.0</td>\n",
       "      <td>1.0</td>\n",
       "      <td>1.0</td>\n",
       "      <td>[SanJose]</td>\n",
       "      <td>[]</td>\n",
       "      <td>NaN</td>\n",
       "      <td>NaN</td>\n",
       "      <td>2016</td>\n",
       "    </tr>\n",
       "    <tr>\n",
       "      <th>2274939</th>\n",
       "      <td>6677232</td>\n",
       "      <td>682714630930563074</td>\n",
       "      <td>2743327187</td>\n",
       "      <td>Washington Online</td>\n",
       "      <td>WashingtOnline</td>\n",
       "      <td>Washington, D.C.</td>\n",
       "      <td>Breaking news, weather, traffic and more for W...</td>\n",
       "      <td>NaN</td>\n",
       "      <td>40762</td>\n",
       "      <td>14404</td>\n",
       "      <td>...</td>\n",
       "      <td>absent</td>\n",
       "      <td>0.0</td>\n",
       "      <td>0.0</td>\n",
       "      <td>0.0</td>\n",
       "      <td>0.0</td>\n",
       "      <td>[business, news]</td>\n",
       "      <td>[]</td>\n",
       "      <td>NaN</td>\n",
       "      <td>NaN</td>\n",
       "      <td>2016</td>\n",
       "    </tr>\n",
       "  </tbody>\n",
       "</table>\n",
       "<p>5 rows × 33 columns</p>\n",
       "</div>"
      ],
      "text/plain": [
       "        Unnamed: 0             tweetid      userid   user_display_name  \\\n",
       "1523823    4500995  682713637161549824  2601235821    Pittsburgh Today   \n",
       "715787     2171579  682714058752012290  3074563039    St. Louis Online   \n",
       "912484     2737486  682714038904557568  2547141851  Chicago Daily News   \n",
       "2308615    6775548  682714784526041088  2494112058      San Jose Daily   \n",
       "2274939    6677232  682714630930563074  2743327187   Washington Online   \n",
       "\n",
       "        user_screen_name user_reported_location  \\\n",
       "1523823  TodayPittsburgh         Pittsburgh, PA   \n",
       "715787     StLouisOnline           St Louis, MO   \n",
       "912484   ChicagoDailyNew            Chicago, IL   \n",
       "2308615     DailySanJose                    USA   \n",
       "2274939   WashingtOnline       Washington, D.C.   \n",
       "\n",
       "                                  user_profile_description user_profile_url  \\\n",
       "1523823  Pittsburgh's local news on Twitter. Breaking n...              NaN   \n",
       "715787   Breaking news, weather, traffic and more for S...              NaN   \n",
       "912484   Local news, sports, business, politics, entert...              NaN   \n",
       "2308615  Follow for San Jose's breaking news, special r...              NaN   \n",
       "2274939  Breaking news, weather, traffic and more for W...              NaN   \n",
       "\n",
       "        follower_count following_count    ...     longitude quote_count  \\\n",
       "1523823          20790           10408    ...        absent         0.0   \n",
       "715787           10534            8576    ...        absent         0.0   \n",
       "912484           23595           13665    ...        absent         0.0   \n",
       "2308615          20135            9313    ...        absent         0.0   \n",
       "2274939          40762           14404    ...        absent         0.0   \n",
       "\n",
       "        reply_count like_count retweet_count          hashtags  \\\n",
       "1523823         0.0        0.0           0.0            [news]   \n",
       "715787          0.0        0.0           0.0          [sports]   \n",
       "912484          0.0        1.0           0.0        [Breaking]   \n",
       "2308615         0.0        1.0           1.0         [SanJose]   \n",
       "2274939         0.0        0.0           0.0  [business, news]   \n",
       "\n",
       "                            urls user_mentions poll_choices tweet_year  \n",
       "1523823                       []           NaN          NaN       2016  \n",
       "715787                        []           NaN          NaN       2016  \n",
       "912484   [http://bit.ly/1mSVsvg]           NaN          NaN       2016  \n",
       "2308615                       []           NaN          NaN       2016  \n",
       "2274939                       []           NaN          NaN       2016  \n",
       "\n",
       "[5 rows x 33 columns]"
      ]
     },
     "execution_count": 19,
     "metadata": {},
     "output_type": "execute_result"
    }
   ],
   "source": [
    "# Examine data.\n",
    "df.head()"
   ]
  },
  {
   "cell_type": "code",
   "execution_count": 20,
   "metadata": {},
   "outputs": [
    {
     "data": {
      "text/plain": [
       "KansasDailyNews    25979\n",
       "DailySanFran       24881\n",
       "TodayNYCity        19832\n",
       "ChicagoDailyNew    17462\n",
       "OnlineCleveland    14650\n",
       "StLouisOnline      14040\n",
       "todayinsyria       12667\n",
       "DailySanDiego      12353\n",
       "DailyLosAngeles    12165\n",
       "TodayPittsburgh    12088\n",
       "PhoenixDailyNew    12062\n",
       "DailySanJose       10827\n",
       "NewOrleansON        9688\n",
       "SanAntoTopNews      9676\n",
       "TodayCincinnati     9601\n",
       "OnlineMemphis       8703\n",
       "WashingtOnline      8591\n",
       "DetroitDailyNew     7731\n",
       "OaklandOnline       7406\n",
       "DallasTopNews       7336\n",
       "TodayMiami          6957\n",
       "NewspeakDaily       6910\n",
       "TodayBostonMA       5324\n",
       "PigeonToday         3824\n",
       "Atlanta_Online      3770\n",
       "HoustonTopNews      3604\n",
       "ElPasoTopNews       2435\n",
       "BlackNewsOutlet     2146\n",
       "tpartynews          1531\n",
       "redlanews           1462\n",
       "MissouriNewsUS      1162\n",
       "NatPolNews            82\n",
       "TribunaOnline24        4\n",
       "Name: user_screen_name, dtype: int64"
      ]
     },
     "execution_count": 20,
     "metadata": {},
     "output_type": "execute_result"
    }
   ],
   "source": [
    "# Examine number of tweets per user.\n",
    "df['user_screen_name'].value_counts()"
   ]
  },
  {
   "cell_type": "code",
   "execution_count": 21,
   "metadata": {},
   "outputs": [
    {
     "data": {
      "text/plain": [
       "33"
      ]
     },
     "execution_count": 21,
     "metadata": {},
     "output_type": "execute_result"
    }
   ],
   "source": [
    "# Check how many unique users there are.\n",
    "df['user_screen_name'].nunique()"
   ]
  },
  {
   "cell_type": "code",
   "execution_count": 22,
   "metadata": {},
   "outputs": [
    {
     "data": {
      "text/plain": [
       "2587843805            25979\n",
       "2495567768            24881\n",
       "2752677905            19832\n",
       "2547141851            17462\n",
       "2753146444            14650\n",
       "3074563039            14040\n",
       "3899481526            12667\n",
       "2630842499            12353\n",
       "2624554209            12165\n",
       "2601235821            12088\n",
       "2753211010            12062\n",
       "2494112058            10827\n",
       "2530830345             9688\n",
       "2753338899             9676\n",
       "2577082467             9601\n",
       "2570017414             8703\n",
       "2743327187             8591\n",
       "2571870453             7731\n",
       "3074013672             7406\n",
       "2675966513             7336\n",
       "2944944427             6957\n",
       "2928870434             6910\n",
       "2591847731             5324\n",
       "2912754262             3824\n",
       "2944766250             3770\n",
       "2628066159             3604\n",
       "2537507303             2435\n",
       "4301962823             2146\n",
       "3990577513             1531\n",
       "4289431230             1462\n",
       "4208754922             1162\n",
       "2951539528               82\n",
       "731456806082498560        4\n",
       "Name: userid, dtype: int64"
      ]
     },
     "execution_count": 22,
     "metadata": {},
     "output_type": "execute_result"
    }
   ],
   "source": [
    "# Check to make sure that the user IDs are unique.\n",
    "df['userid'].value_counts()"
   ]
  },
  {
   "cell_type": "code",
   "execution_count": 23,
   "metadata": {
    "collapsed": true
   },
   "outputs": [],
   "source": [
    "# Add category label.\n",
    "df['category'] = 'troll'"
   ]
  },
  {
   "cell_type": "code",
   "execution_count": 24,
   "metadata": {
    "collapsed": true
   },
   "outputs": [],
   "source": [
    "# Create new dataframe with tweet text and category label only.\n",
    "trolls = df[['tweet_text', 'category']]"
   ]
  },
  {
   "cell_type": "code",
   "execution_count": 26,
   "metadata": {},
   "outputs": [
    {
     "data": {
      "text/html": [
       "<div>\n",
       "<style scoped>\n",
       "    .dataframe tbody tr th:only-of-type {\n",
       "        vertical-align: middle;\n",
       "    }\n",
       "\n",
       "    .dataframe tbody tr th {\n",
       "        vertical-align: top;\n",
       "    }\n",
       "\n",
       "    .dataframe thead th {\n",
       "        text-align: right;\n",
       "    }\n",
       "</style>\n",
       "<table border=\"1\" class=\"dataframe\">\n",
       "  <thead>\n",
       "    <tr style=\"text-align: right;\">\n",
       "      <th></th>\n",
       "      <th>tweet_text</th>\n",
       "      <th>category</th>\n",
       "    </tr>\n",
       "  </thead>\n",
       "  <tbody>\n",
       "    <tr>\n",
       "      <th>1523823</th>\n",
       "      <td>Old-Fashioned Oakdale Barber Shop Closes After...</td>\n",
       "      <td>troll</td>\n",
       "    </tr>\n",
       "    <tr>\n",
       "      <th>715787</th>\n",
       "      <td>Former Cardinals manager Rapp, 87, dies  #sports</td>\n",
       "      <td>troll</td>\n",
       "    </tr>\n",
       "    <tr>\n",
       "      <th>912484</th>\n",
       "      <td>#Breaking Divvy raises rates for annual bike-s...</td>\n",
       "      <td>troll</td>\n",
       "    </tr>\n",
       "    <tr>\n",
       "      <th>2308615</th>\n",
       "      <td>Santa Clara: Hearing set for suit to halt NFL'...</td>\n",
       "      <td>troll</td>\n",
       "    </tr>\n",
       "    <tr>\n",
       "      <th>2274939</th>\n",
       "      <td>George Lucas apologizes for calling Disney 'wh...</td>\n",
       "      <td>troll</td>\n",
       "    </tr>\n",
       "  </tbody>\n",
       "</table>\n",
       "</div>"
      ],
      "text/plain": [
       "                                                tweet_text category\n",
       "1523823  Old-Fashioned Oakdale Barber Shop Closes After...    troll\n",
       "715787    Former Cardinals manager Rapp, 87, dies  #sports    troll\n",
       "912484   #Breaking Divvy raises rates for annual bike-s...    troll\n",
       "2308615  Santa Clara: Hearing set for suit to halt NFL'...    troll\n",
       "2274939  George Lucas apologizes for calling Disney 'wh...    troll"
      ]
     },
     "execution_count": 26,
     "metadata": {},
     "output_type": "execute_result"
    }
   ],
   "source": [
    "# Examine data.\n",
    "trolls.head()"
   ]
  },
  {
   "cell_type": "code",
   "execution_count": 27,
   "metadata": {
    "collapsed": true
   },
   "outputs": [],
   "source": [
    "# Take a random sample using total number of real news tweets (see below).\n",
    "trolls = trolls.sample(n=153188, random_state=2019)"
   ]
  },
  {
   "cell_type": "code",
   "execution_count": 28,
   "metadata": {
    "scrolled": false
   },
   "outputs": [
    {
     "data": {
      "text/plain": [
       "(153188, 2)"
      ]
     },
     "execution_count": 28,
     "metadata": {},
     "output_type": "execute_result"
    }
   ],
   "source": [
    "# Check shape.\n",
    "trolls.shape"
   ]
  },
  {
   "cell_type": "markdown",
   "metadata": {},
   "source": [
    "### Real News Dataset"
   ]
  },
  {
   "cell_type": "code",
   "execution_count": 3,
   "metadata": {
    "collapsed": true
   },
   "outputs": [],
   "source": [
    "# Read in csv file.\n",
    "df2 = pd.read_csv(\"real_news.csv\")"
   ]
  },
  {
   "cell_type": "code",
   "execution_count": 4,
   "metadata": {},
   "outputs": [
    {
     "data": {
      "text/plain": [
       "(153188, 5)"
      ]
     },
     "execution_count": 4,
     "metadata": {},
     "output_type": "execute_result"
    }
   ],
   "source": [
    "# Check dataframe shape.\n",
    "df2.shape"
   ]
  },
  {
   "cell_type": "code",
   "execution_count": 5,
   "metadata": {},
   "outputs": [
    {
     "data": {
      "text/html": [
       "<div>\n",
       "<style scoped>\n",
       "    .dataframe tbody tr th:only-of-type {\n",
       "        vertical-align: middle;\n",
       "    }\n",
       "\n",
       "    .dataframe tbody tr th {\n",
       "        vertical-align: top;\n",
       "    }\n",
       "\n",
       "    .dataframe thead th {\n",
       "        text-align: right;\n",
       "    }\n",
       "</style>\n",
       "<table border=\"1\" class=\"dataframe\">\n",
       "  <thead>\n",
       "    <tr style=\"text-align: right;\">\n",
       "      <th></th>\n",
       "      <th>Unnamed: 0</th>\n",
       "      <th>user_id</th>\n",
       "      <th>user_screen_name</th>\n",
       "      <th>id</th>\n",
       "      <th>text</th>\n",
       "    </tr>\n",
       "  </thead>\n",
       "  <tbody>\n",
       "    <tr>\n",
       "      <th>0</th>\n",
       "      <td>0</td>\n",
       "      <td>9300262</td>\n",
       "      <td>politico</td>\n",
       "      <td>864621529765748736</td>\n",
       "      <td>Russia shrugs off reports Trump shared classif...</td>\n",
       "    </tr>\n",
       "    <tr>\n",
       "      <th>1</th>\n",
       "      <td>1</td>\n",
       "      <td>15513604</td>\n",
       "      <td>foxandfriends</td>\n",
       "      <td>935087093352685569</td>\n",
       "      <td>Texas man reportedly imprisoned in United Arab...</td>\n",
       "    </tr>\n",
       "    <tr>\n",
       "      <th>2</th>\n",
       "      <td>2</td>\n",
       "      <td>15164565</td>\n",
       "      <td>Slate</td>\n",
       "      <td>961389241791021062</td>\n",
       "      <td>Giannis Antetokounmpo jumped over a 6-foot-6 d...</td>\n",
       "    </tr>\n",
       "    <tr>\n",
       "      <th>3</th>\n",
       "      <td>3</td>\n",
       "      <td>759251</td>\n",
       "      <td>CNN</td>\n",
       "      <td>796188356690530304</td>\n",
       "      <td>Dramatic mood shift at Clinton HQ; Many aides ...</td>\n",
       "    </tr>\n",
       "    <tr>\n",
       "      <th>4</th>\n",
       "      <td>4</td>\n",
       "      <td>15513604</td>\n",
       "      <td>foxandfriends</td>\n",
       "      <td>950322509903269888</td>\n",
       "      <td>RT @JaniceDean: A warm up for the eastern half...</td>\n",
       "    </tr>\n",
       "  </tbody>\n",
       "</table>\n",
       "</div>"
      ],
      "text/plain": [
       "   Unnamed: 0   user_id user_screen_name                  id  \\\n",
       "0           0   9300262         politico  864621529765748736   \n",
       "1           1  15513604    foxandfriends  935087093352685569   \n",
       "2           2  15164565            Slate  961389241791021062   \n",
       "3           3    759251              CNN  796188356690530304   \n",
       "4           4  15513604    foxandfriends  950322509903269888   \n",
       "\n",
       "                                                text  \n",
       "0  Russia shrugs off reports Trump shared classif...  \n",
       "1  Texas man reportedly imprisoned in United Arab...  \n",
       "2  Giannis Antetokounmpo jumped over a 6-foot-6 d...  \n",
       "3  Dramatic mood shift at Clinton HQ; Many aides ...  \n",
       "4  RT @JaniceDean: A warm up for the eastern half...  "
      ]
     },
     "execution_count": 5,
     "metadata": {},
     "output_type": "execute_result"
    }
   ],
   "source": [
    "# Examine data.\n",
    "df2.head()"
   ]
  },
  {
   "cell_type": "code",
   "execution_count": 7,
   "metadata": {
    "collapsed": true
   },
   "outputs": [],
   "source": [
    "# Rename column.\n",
    "df2 = df2.rename(columns={'text': 'tweet_text'})"
   ]
  },
  {
   "cell_type": "code",
   "execution_count": 8,
   "metadata": {},
   "outputs": [
    {
     "data": {
      "text/plain": [
       "thehill            12951\n",
       "FoxNews            11554\n",
       "politico            9236\n",
       "CNN                 8543\n",
       "washingtonpost      8068\n",
       "nytimes             7439\n",
       "CBSNews             6746\n",
       "TheEconomist        5882\n",
       "CNNPolitics         5019\n",
       "latimes             4846\n",
       "Slate               4801\n",
       "USATODAY            4586\n",
       "ABCPolitics         3869\n",
       "dallasnews          3794\n",
       "NBCNews             3529\n",
       "ArkansasOnline      3116\n",
       "chicagotribune      3019\n",
       "MSNBC               2968\n",
       "TheStreet           2966\n",
       "DRUDGE_REPORT       2965\n",
       "fox5dc              2847\n",
       "BuzzFeedNews        2469\n",
       "nbcsandiego         2463\n",
       "NPR                 2431\n",
       "HuffPost            2356\n",
       "NewarkAdvocate      2197\n",
       "NewYorker           2194\n",
       "foxandfriends       2185\n",
       "MotherJones         2080\n",
       "FreeBeacon          2076\n",
       "WSJPolitics         1664\n",
       "YahooNews           1578\n",
       "theblaze            1462\n",
       "BreitbartNews       1352\n",
       "elpasotimes         1286\n",
       "BBCNorthAmerica     1083\n",
       "foxnewsradio         838\n",
       "WSJopinion           566\n",
       "newsmax              557\n",
       "TheDailyShow         541\n",
       "PBS                  502\n",
       "FoxNewsSunday        436\n",
       "DigBatonRouge        408\n",
       "TheDailyCall         401\n",
       "CBS                  385\n",
       "WSJusnews            368\n",
       "ABCNewsLive          333\n",
       "HUChronicle          231\n",
       "MSNBC_Politics         2\n",
       "Name: user_screen_name, dtype: int64"
      ]
     },
     "execution_count": 8,
     "metadata": {},
     "output_type": "execute_result"
    }
   ],
   "source": [
    "# Examine number of tweets per user.\n",
    "df2['user_screen_name'].value_counts()"
   ]
  },
  {
   "cell_type": "code",
   "execution_count": 9,
   "metadata": {},
   "outputs": [
    {
     "data": {
      "text/plain": [
       "49"
      ]
     },
     "execution_count": 9,
     "metadata": {},
     "output_type": "execute_result"
    }
   ],
   "source": [
    "# Check how many unique users there are.\n",
    "df2['user_screen_name'].nunique()"
   ]
  },
  {
   "cell_type": "code",
   "execution_count": 10,
   "metadata": {
    "collapsed": true
   },
   "outputs": [],
   "source": [
    "# Add category label.\n",
    "df2['category'] = 'real'"
   ]
  },
  {
   "cell_type": "code",
   "execution_count": 11,
   "metadata": {},
   "outputs": [
    {
     "data": {
      "text/plain": [
       "(153188, 2)"
      ]
     },
     "execution_count": 11,
     "metadata": {},
     "output_type": "execute_result"
    }
   ],
   "source": [
    "# Create new dataframe with tweet text and category label only.\n",
    "real = df2[['tweet_text', 'category']]"
   ]
  },
  {
   "cell_type": "code",
   "execution_count": 12,
   "metadata": {
    "scrolled": true
   },
   "outputs": [
    {
     "data": {
      "text/html": [
       "<div>\n",
       "<style scoped>\n",
       "    .dataframe tbody tr th:only-of-type {\n",
       "        vertical-align: middle;\n",
       "    }\n",
       "\n",
       "    .dataframe tbody tr th {\n",
       "        vertical-align: top;\n",
       "    }\n",
       "\n",
       "    .dataframe thead th {\n",
       "        text-align: right;\n",
       "    }\n",
       "</style>\n",
       "<table border=\"1\" class=\"dataframe\">\n",
       "  <thead>\n",
       "    <tr style=\"text-align: right;\">\n",
       "      <th></th>\n",
       "      <th>tweet_text</th>\n",
       "      <th>category</th>\n",
       "    </tr>\n",
       "  </thead>\n",
       "  <tbody>\n",
       "    <tr>\n",
       "      <th>0</th>\n",
       "      <td>Russia shrugs off reports Trump shared classif...</td>\n",
       "      <td>real</td>\n",
       "    </tr>\n",
       "    <tr>\n",
       "      <th>1</th>\n",
       "      <td>Texas man reportedly imprisoned in United Arab...</td>\n",
       "      <td>real</td>\n",
       "    </tr>\n",
       "    <tr>\n",
       "      <th>2</th>\n",
       "      <td>Giannis Antetokounmpo jumped over a 6-foot-6 d...</td>\n",
       "      <td>real</td>\n",
       "    </tr>\n",
       "    <tr>\n",
       "      <th>3</th>\n",
       "      <td>Dramatic mood shift at Clinton HQ; Many aides ...</td>\n",
       "      <td>real</td>\n",
       "    </tr>\n",
       "    <tr>\n",
       "      <th>4</th>\n",
       "      <td>RT @JaniceDean: A warm up for the eastern half...</td>\n",
       "      <td>real</td>\n",
       "    </tr>\n",
       "  </tbody>\n",
       "</table>\n",
       "</div>"
      ],
      "text/plain": [
       "                                          tweet_text category\n",
       "0  Russia shrugs off reports Trump shared classif...     real\n",
       "1  Texas man reportedly imprisoned in United Arab...     real\n",
       "2  Giannis Antetokounmpo jumped over a 6-foot-6 d...     real\n",
       "3  Dramatic mood shift at Clinton HQ; Many aides ...     real\n",
       "4  RT @JaniceDean: A warm up for the eastern half...     real"
      ]
     },
     "execution_count": 12,
     "metadata": {},
     "output_type": "execute_result"
    }
   ],
   "source": [
    "# Examine data.\n",
    "real.head()"
   ]
  },
  {
   "cell_type": "markdown",
   "metadata": {},
   "source": [
    "### Combine Data"
   ]
  },
  {
   "cell_type": "code",
   "execution_count": 30,
   "metadata": {
    "collapsed": true
   },
   "outputs": [],
   "source": [
    "# Concatenate the two datasets created above.\n",
    "result = pd.concat([trolls, real])"
   ]
  },
  {
   "cell_type": "code",
   "execution_count": 31,
   "metadata": {},
   "outputs": [
    {
     "data": {
      "text/plain": [
       "(306376, 2)"
      ]
     },
     "execution_count": 31,
     "metadata": {},
     "output_type": "execute_result"
    }
   ],
   "source": [
    "# Check dataframe shape.\n",
    "result.shape"
   ]
  },
  {
   "cell_type": "code",
   "execution_count": 32,
   "metadata": {
    "collapsed": true
   },
   "outputs": [],
   "source": [
    "# Reset the data indices.\n",
    "result = result.reset_index(drop=True)"
   ]
  },
  {
   "cell_type": "code",
   "execution_count": 33,
   "metadata": {
    "scrolled": true
   },
   "outputs": [
    {
     "data": {
      "text/html": [
       "<div>\n",
       "<style scoped>\n",
       "    .dataframe tbody tr th:only-of-type {\n",
       "        vertical-align: middle;\n",
       "    }\n",
       "\n",
       "    .dataframe tbody tr th {\n",
       "        vertical-align: top;\n",
       "    }\n",
       "\n",
       "    .dataframe thead th {\n",
       "        text-align: right;\n",
       "    }\n",
       "</style>\n",
       "<table border=\"1\" class=\"dataframe\">\n",
       "  <thead>\n",
       "    <tr style=\"text-align: right;\">\n",
       "      <th></th>\n",
       "      <th>tweet_text</th>\n",
       "      <th>category</th>\n",
       "    </tr>\n",
       "  </thead>\n",
       "  <tbody>\n",
       "    <tr>\n",
       "      <th>0</th>\n",
       "      <td>Brewers-Cubs first pitch scheduled for 2:15 p....</td>\n",
       "      <td>troll</td>\n",
       "    </tr>\n",
       "    <tr>\n",
       "      <th>1</th>\n",
       "      <td>Even more medicine coming to Liberty Township ...</td>\n",
       "      <td>troll</td>\n",
       "    </tr>\n",
       "    <tr>\n",
       "      <th>2</th>\n",
       "      <td>Chicago fugitive apprehended in Lithonia https...</td>\n",
       "      <td>troll</td>\n",
       "    </tr>\n",
       "    <tr>\n",
       "      <th>3</th>\n",
       "      <td>11 killed in East TN wildfires; TBI investigat...</td>\n",
       "      <td>troll</td>\n",
       "    </tr>\n",
       "    <tr>\n",
       "      <th>4</th>\n",
       "      <td>GOP campaigns flock to Fargo to vie for delega...</td>\n",
       "      <td>troll</td>\n",
       "    </tr>\n",
       "  </tbody>\n",
       "</table>\n",
       "</div>"
      ],
      "text/plain": [
       "                                          tweet_text category\n",
       "0  Brewers-Cubs first pitch scheduled for 2:15 p....    troll\n",
       "1  Even more medicine coming to Liberty Township ...    troll\n",
       "2  Chicago fugitive apprehended in Lithonia https...    troll\n",
       "3  11 killed in East TN wildfires; TBI investigat...    troll\n",
       "4  GOP campaigns flock to Fargo to vie for delega...    troll"
      ]
     },
     "execution_count": 33,
     "metadata": {},
     "output_type": "execute_result"
    }
   ],
   "source": [
    "# Examine the data.\n",
    "result.head()"
   ]
  },
  {
   "cell_type": "code",
   "execution_count": 34,
   "metadata": {
    "collapsed": true
   },
   "outputs": [],
   "source": [
    "# Write to new csv file.\n",
    "result.to_csv(\"news_tweets_big.csv\")"
   ]
  },
  {
   "cell_type": "code",
   "execution_count": null,
   "metadata": {
    "collapsed": true
   },
   "outputs": [],
   "source": []
  }
 ],
 "metadata": {
  "kernelspec": {
   "display_name": "Python 3",
   "language": "python",
   "name": "python3"
  },
  "language_info": {
   "codemirror_mode": {
    "name": "ipython",
    "version": 3
   },
   "file_extension": ".py",
   "mimetype": "text/x-python",
   "name": "python",
   "nbconvert_exporter": "python",
   "pygments_lexer": "ipython3",
   "version": "3.6.8"
  },
  "toc": {
   "base_numbering": 1,
   "nav_menu": {},
   "number_sections": true,
   "sideBar": true,
   "skip_h1_title": false,
   "title_cell": "Table of Contents",
   "title_sidebar": "Contents",
   "toc_cell": false,
   "toc_position": {},
   "toc_section_display": true,
   "toc_window_display": true
  }
 },
 "nbformat": 4,
 "nbformat_minor": 2
}
