{
 "cells": [
  {
   "cell_type": "markdown",
   "metadata": {},
   "source": [
    "# Setup and data import"
   ]
  },
  {
   "cell_type": "code",
   "execution_count": 20,
   "metadata": {
    "ExecuteTime": {
     "end_time": "2019-04-05T13:51:49.746185Z",
     "start_time": "2019-04-05T13:51:49.664247Z"
    },
    "collapsed": true
   },
   "outputs": [],
   "source": [
    "# This tells matplotlib not to try opening a new window for \n",
    "# each plot.\n",
    "%matplotlib inline\n",
    "\n",
    "# General libraries.\n",
    "import re\n",
    "import numpy as np\n",
    "import matplotlib.pyplot as plt\n",
    "import pandas as pd\n",
    "import string\n",
    "import csv\n",
    "import datetime\n",
    "import pandas_ml as pdml\n",
    "from time import time\n",
    "\n",
    "# SK-learn libraries for learning.\n",
    "from sklearn.decomposition import PCA\n",
    "from sklearn.decomposition import TruncatedSVD\n",
    "from sklearn.pipeline import Pipeline\n",
    "from sklearn.neighbors import KNeighborsClassifier\n",
    "from sklearn.linear_model import LogisticRegression\n",
    "from sklearn.naive_bayes import BernoulliNB\n",
    "from sklearn.naive_bayes import MultinomialNB\n",
    "from sklearn.model_selection import GridSearchCV\n",
    "from sklearn.datasets import fetch_mldata\n",
    "from sklearn.linear_model import LinearRegression\n",
    "from sklearn.naive_bayes import GaussianNB\n",
    "from sklearn import preprocessing\n",
    "from sklearn.model_selection import train_test_split\n",
    "\n",
    "# SK-learn libraries for evaluation.\n",
    "from sklearn import metrics\n",
    "from sklearn.metrics import accuracy_score\n",
    "from sklearn.metrics import confusion_matrix\n",
    "from sklearn.metrics import classification_report\n",
    "from sklearn.metrics import f1_score\n",
    "\n",
    "# SK-learn libraries for feature extraction from text.\n",
    "from sklearn.feature_extraction import text\n",
    "from sklearn.feature_extraction.text import *\n",
    "\n",
    "from pandas_ml import ConfusionMatrix\n",
    "\n",
    "from pprint import pprint\n",
    "\n",
    "from textblob import TextBlob\n",
    "\n",
    "from sklearn.feature_extraction import text\n",
    "from sklearn.feature_extraction.text import TfidfVectorizer\n",
    "\n",
    "from sklearn.ensemble import VotingClassifier\n",
    "from sklearn.svm import LinearSVC\n",
    "from sklearn.ensemble import AdaBoostClassifier\n",
    "from sklearn.naive_bayes import MultinomialNB, BernoulliNB\n",
    "from sklearn.linear_model import RidgeClassifier\n",
    "from sklearn.linear_model import PassiveAggressiveClassifier\n",
    "from sklearn.linear_model import Perceptron\n",
    "from sklearn.neighbors import NearestCentroid\n",
    "from sklearn.feature_selection import SelectFromModel"
   ]
  },
  {
   "cell_type": "markdown",
   "metadata": {},
   "source": [
    "Import data"
   ]
  },
  {
   "cell_type": "code",
   "execution_count": 18,
   "metadata": {
    "ExecuteTime": {
     "end_time": "2019-04-05T13:08:31.999083Z",
     "start_time": "2019-04-05T13:08:31.507218Z"
    },
    "collapsed": true
   },
   "outputs": [],
   "source": [
    "df = pd.read_csv(\"../Data/news_tweets_big.csv\", index_col=0)\n",
    "df['category'] = pd.factorize(df.category)[0]\n",
    "clean_df = pd.DataFrame(df,columns=['tweet_text'])\n",
    "clean_df['target'] = df.category"
   ]
  },
  {
   "cell_type": "code",
   "execution_count": 19,
   "metadata": {
    "ExecuteTime": {
     "end_time": "2019-04-05T13:08:32.356947Z",
     "start_time": "2019-04-05T13:08:32.343984Z"
    }
   },
   "outputs": [
    {
     "data": {
      "text/html": [
       "<div>\n",
       "<style scoped>\n",
       "    .dataframe tbody tr th:only-of-type {\n",
       "        vertical-align: middle;\n",
       "    }\n",
       "\n",
       "    .dataframe tbody tr th {\n",
       "        vertical-align: top;\n",
       "    }\n",
       "\n",
       "    .dataframe thead th {\n",
       "        text-align: right;\n",
       "    }\n",
       "</style>\n",
       "<table border=\"1\" class=\"dataframe\">\n",
       "  <thead>\n",
       "    <tr style=\"text-align: right;\">\n",
       "      <th></th>\n",
       "      <th>tweet_text</th>\n",
       "      <th>category</th>\n",
       "    </tr>\n",
       "  </thead>\n",
       "  <tbody>\n",
       "    <tr>\n",
       "      <th>0</th>\n",
       "      <td>Louisville signee Donovan Mitchell's shoot 3, ...</td>\n",
       "      <td>0</td>\n",
       "    </tr>\n",
       "    <tr>\n",
       "      <th>1</th>\n",
       "      <td>Man, 45, stabs cousin in buttocks during fight...</td>\n",
       "      <td>0</td>\n",
       "    </tr>\n",
       "    <tr>\n",
       "      <th>2</th>\n",
       "      <td>City Club forum for Ohio Supreme Court candida...</td>\n",
       "      <td>0</td>\n",
       "    </tr>\n",
       "    <tr>\n",
       "      <th>3</th>\n",
       "      <td>Ocean Springs wide receiver Austin Williams ge...</td>\n",
       "      <td>0</td>\n",
       "    </tr>\n",
       "    <tr>\n",
       "      <th>4</th>\n",
       "      <td>180 Duarte occupants must evacuate homes in fa...</td>\n",
       "      <td>0</td>\n",
       "    </tr>\n",
       "  </tbody>\n",
       "</table>\n",
       "</div>"
      ],
      "text/plain": [
       "                                          tweet_text  category\n",
       "0  Louisville signee Donovan Mitchell's shoot 3, ...         0\n",
       "1  Man, 45, stabs cousin in buttocks during fight...         0\n",
       "2  City Club forum for Ohio Supreme Court candida...         0\n",
       "3  Ocean Springs wide receiver Austin Williams ge...         0\n",
       "4  180 Duarte occupants must evacuate homes in fa...         0"
      ]
     },
     "execution_count": 19,
     "metadata": {},
     "output_type": "execute_result"
    }
   ],
   "source": [
    "df.head()"
   ]
  },
  {
   "cell_type": "markdown",
   "metadata": {},
   "source": [
    "Split data"
   ]
  },
  {
   "cell_type": "code",
   "execution_count": 3,
   "metadata": {
    "ExecuteTime": {
     "end_time": "2019-04-04T19:45:51.331604Z",
     "start_time": "2019-04-04T19:45:51.254809Z"
    }
   },
   "outputs": [
    {
     "name": "stdout",
     "output_type": "stream",
     "text": [
      "training data shape: (122413,)\n",
      "development data shape: (40804,)\n",
      "test data shape: (40805,)\n",
      "labels names: ['troll', 'msnbc']\n"
     ]
    }
   ],
   "source": [
    "my_df = clean_df\n",
    "x = my_df.tweet_text\n",
    "y = my_df.target\n",
    "SEED = 2019\n",
    "\n",
    "x_train, x_dev_and_test, y_train, y_dev_and_test = train_test_split(x, y, test_size=0.4, random_state=SEED)\n",
    "x_dev, x_test, y_dev, y_test = train_test_split(x_dev_and_test, y_dev_and_test, test_size=0.5, random_state=SEED)\n",
    "targets = ['troll', 'msnbc']\n",
    "\n",
    "print('training data shape:', x_train.shape)\n",
    "print('development data shape:', x_dev.shape)\n",
    "print('test data shape:', x_test.shape)\n",
    "print('labels names:', targets)"
   ]
  },
  {
   "cell_type": "markdown",
   "metadata": {},
   "source": [
    "# ML pipeline design"
   ]
  },
  {
   "cell_type": "markdown",
   "metadata": {},
   "source": [
    "## Basic test (`MultinomialNB`)"
   ]
  },
  {
   "cell_type": "code",
   "execution_count": 21,
   "metadata": {
    "ExecuteTime": {
     "end_time": "2019-04-05T13:53:04.819405Z",
     "start_time": "2019-04-05T13:52:07.838111Z"
    },
    "collapsed": true
   },
   "outputs": [
    {
     "name": "stdout",
     "output_type": "stream",
     "text": [
      "Fitting 5 folds for each of 1440 candidates, totalling 7200 fits\n"
     ]
    },
    {
     "name": "stderr",
     "output_type": "stream",
     "text": [
      "[Parallel(n_jobs=3)]: Using backend LokyBackend with 3 concurrent workers.\n"
     ]
    },
    {
     "ename": "KeyboardInterrupt",
     "evalue": "",
     "output_type": "error",
     "traceback": [
      "\u001b[1;31m---------------------------------------------------------------------------\u001b[0m",
      "\u001b[1;31mKeyboardInterrupt\u001b[0m                         Traceback (most recent call last)",
      "\u001b[1;32m<ipython-input-21-ca142bf724b6>\u001b[0m in \u001b[0;36m<module>\u001b[1;34m\u001b[0m\n\u001b[0;32m     14\u001b[0m grid_search = GridSearchCV(pipeline, grid, cv=5, n_jobs=3, verbose=1,\n\u001b[0;32m     15\u001b[0m                           scoring=scoring, refit='accuracy')\n\u001b[1;32m---> 16\u001b[1;33m \u001b[0mgrid_search\u001b[0m\u001b[1;33m.\u001b[0m\u001b[0mfit\u001b[0m\u001b[1;33m(\u001b[0m\u001b[0mx_train\u001b[0m\u001b[1;33m,\u001b[0m \u001b[0my_train\u001b[0m\u001b[1;33m)\u001b[0m\u001b[1;33m\u001b[0m\u001b[1;33m\u001b[0m\u001b[0m\n\u001b[0m",
      "\u001b[1;32m~\\Anaconda3\\envs\\main_rcm\\lib\\site-packages\\sklearn\\model_selection\\_search.py\u001b[0m in \u001b[0;36mfit\u001b[1;34m(self, X, y, groups, **fit_params)\u001b[0m\n\u001b[0;32m    720\u001b[0m                 \u001b[1;32mreturn\u001b[0m \u001b[0mresults_container\u001b[0m\u001b[1;33m[\u001b[0m\u001b[1;36m0\u001b[0m\u001b[1;33m]\u001b[0m\u001b[1;33m\u001b[0m\u001b[1;33m\u001b[0m\u001b[0m\n\u001b[0;32m    721\u001b[0m \u001b[1;33m\u001b[0m\u001b[0m\n\u001b[1;32m--> 722\u001b[1;33m             \u001b[0mself\u001b[0m\u001b[1;33m.\u001b[0m\u001b[0m_run_search\u001b[0m\u001b[1;33m(\u001b[0m\u001b[0mevaluate_candidates\u001b[0m\u001b[1;33m)\u001b[0m\u001b[1;33m\u001b[0m\u001b[1;33m\u001b[0m\u001b[0m\n\u001b[0m\u001b[0;32m    723\u001b[0m \u001b[1;33m\u001b[0m\u001b[0m\n\u001b[0;32m    724\u001b[0m         \u001b[0mresults\u001b[0m \u001b[1;33m=\u001b[0m \u001b[0mresults_container\u001b[0m\u001b[1;33m[\u001b[0m\u001b[1;36m0\u001b[0m\u001b[1;33m]\u001b[0m\u001b[1;33m\u001b[0m\u001b[1;33m\u001b[0m\u001b[0m\n",
      "\u001b[1;32m~\\Anaconda3\\envs\\main_rcm\\lib\\site-packages\\sklearn\\model_selection\\_search.py\u001b[0m in \u001b[0;36m_run_search\u001b[1;34m(self, evaluate_candidates)\u001b[0m\n\u001b[0;32m   1189\u001b[0m     \u001b[1;32mdef\u001b[0m \u001b[0m_run_search\u001b[0m\u001b[1;33m(\u001b[0m\u001b[0mself\u001b[0m\u001b[1;33m,\u001b[0m \u001b[0mevaluate_candidates\u001b[0m\u001b[1;33m)\u001b[0m\u001b[1;33m:\u001b[0m\u001b[1;33m\u001b[0m\u001b[1;33m\u001b[0m\u001b[0m\n\u001b[0;32m   1190\u001b[0m         \u001b[1;34m\"\"\"Search all candidates in param_grid\"\"\"\u001b[0m\u001b[1;33m\u001b[0m\u001b[1;33m\u001b[0m\u001b[0m\n\u001b[1;32m-> 1191\u001b[1;33m         \u001b[0mevaluate_candidates\u001b[0m\u001b[1;33m(\u001b[0m\u001b[0mParameterGrid\u001b[0m\u001b[1;33m(\u001b[0m\u001b[0mself\u001b[0m\u001b[1;33m.\u001b[0m\u001b[0mparam_grid\u001b[0m\u001b[1;33m)\u001b[0m\u001b[1;33m)\u001b[0m\u001b[1;33m\u001b[0m\u001b[1;33m\u001b[0m\u001b[0m\n\u001b[0m\u001b[0;32m   1192\u001b[0m \u001b[1;33m\u001b[0m\u001b[0m\n\u001b[0;32m   1193\u001b[0m \u001b[1;33m\u001b[0m\u001b[0m\n",
      "\u001b[1;32m~\\Anaconda3\\envs\\main_rcm\\lib\\site-packages\\sklearn\\model_selection\\_search.py\u001b[0m in \u001b[0;36mevaluate_candidates\u001b[1;34m(candidate_params)\u001b[0m\n\u001b[0;32m    709\u001b[0m                                \u001b[1;32mfor\u001b[0m \u001b[0mparameters\u001b[0m\u001b[1;33m,\u001b[0m \u001b[1;33m(\u001b[0m\u001b[0mtrain\u001b[0m\u001b[1;33m,\u001b[0m \u001b[0mtest\u001b[0m\u001b[1;33m)\u001b[0m\u001b[1;33m\u001b[0m\u001b[1;33m\u001b[0m\u001b[0m\n\u001b[0;32m    710\u001b[0m                                in product(candidate_params,\n\u001b[1;32m--> 711\u001b[1;33m                                           cv.split(X, y, groups)))\n\u001b[0m\u001b[0;32m    712\u001b[0m \u001b[1;33m\u001b[0m\u001b[0m\n\u001b[0;32m    713\u001b[0m                 \u001b[0mall_candidate_params\u001b[0m\u001b[1;33m.\u001b[0m\u001b[0mextend\u001b[0m\u001b[1;33m(\u001b[0m\u001b[0mcandidate_params\u001b[0m\u001b[1;33m)\u001b[0m\u001b[1;33m\u001b[0m\u001b[1;33m\u001b[0m\u001b[0m\n",
      "\u001b[1;32m~\\Anaconda3\\envs\\main_rcm\\lib\\site-packages\\sklearn\\externals\\joblib\\parallel.py\u001b[0m in \u001b[0;36m__call__\u001b[1;34m(self, iterable)\u001b[0m\n\u001b[0;32m    928\u001b[0m \u001b[1;33m\u001b[0m\u001b[0m\n\u001b[0;32m    929\u001b[0m             \u001b[1;32mwith\u001b[0m \u001b[0mself\u001b[0m\u001b[1;33m.\u001b[0m\u001b[0m_backend\u001b[0m\u001b[1;33m.\u001b[0m\u001b[0mretrieval_context\u001b[0m\u001b[1;33m(\u001b[0m\u001b[1;33m)\u001b[0m\u001b[1;33m:\u001b[0m\u001b[1;33m\u001b[0m\u001b[1;33m\u001b[0m\u001b[0m\n\u001b[1;32m--> 930\u001b[1;33m                 \u001b[0mself\u001b[0m\u001b[1;33m.\u001b[0m\u001b[0mretrieve\u001b[0m\u001b[1;33m(\u001b[0m\u001b[1;33m)\u001b[0m\u001b[1;33m\u001b[0m\u001b[1;33m\u001b[0m\u001b[0m\n\u001b[0m\u001b[0;32m    931\u001b[0m             \u001b[1;31m# Make sure that we get a last message telling us we are done\u001b[0m\u001b[1;33m\u001b[0m\u001b[1;33m\u001b[0m\u001b[1;33m\u001b[0m\u001b[0m\n\u001b[0;32m    932\u001b[0m             \u001b[0melapsed_time\u001b[0m \u001b[1;33m=\u001b[0m \u001b[0mtime\u001b[0m\u001b[1;33m.\u001b[0m\u001b[0mtime\u001b[0m\u001b[1;33m(\u001b[0m\u001b[1;33m)\u001b[0m \u001b[1;33m-\u001b[0m \u001b[0mself\u001b[0m\u001b[1;33m.\u001b[0m\u001b[0m_start_time\u001b[0m\u001b[1;33m\u001b[0m\u001b[1;33m\u001b[0m\u001b[0m\n",
      "\u001b[1;32m~\\Anaconda3\\envs\\main_rcm\\lib\\site-packages\\sklearn\\externals\\joblib\\parallel.py\u001b[0m in \u001b[0;36mretrieve\u001b[1;34m(self)\u001b[0m\n\u001b[0;32m    831\u001b[0m             \u001b[1;32mtry\u001b[0m\u001b[1;33m:\u001b[0m\u001b[1;33m\u001b[0m\u001b[1;33m\u001b[0m\u001b[0m\n\u001b[0;32m    832\u001b[0m                 \u001b[1;32mif\u001b[0m \u001b[0mgetattr\u001b[0m\u001b[1;33m(\u001b[0m\u001b[0mself\u001b[0m\u001b[1;33m.\u001b[0m\u001b[0m_backend\u001b[0m\u001b[1;33m,\u001b[0m \u001b[1;34m'supports_timeout'\u001b[0m\u001b[1;33m,\u001b[0m \u001b[1;32mFalse\u001b[0m\u001b[1;33m)\u001b[0m\u001b[1;33m:\u001b[0m\u001b[1;33m\u001b[0m\u001b[1;33m\u001b[0m\u001b[0m\n\u001b[1;32m--> 833\u001b[1;33m                     \u001b[0mself\u001b[0m\u001b[1;33m.\u001b[0m\u001b[0m_output\u001b[0m\u001b[1;33m.\u001b[0m\u001b[0mextend\u001b[0m\u001b[1;33m(\u001b[0m\u001b[0mjob\u001b[0m\u001b[1;33m.\u001b[0m\u001b[0mget\u001b[0m\u001b[1;33m(\u001b[0m\u001b[0mtimeout\u001b[0m\u001b[1;33m=\u001b[0m\u001b[0mself\u001b[0m\u001b[1;33m.\u001b[0m\u001b[0mtimeout\u001b[0m\u001b[1;33m)\u001b[0m\u001b[1;33m)\u001b[0m\u001b[1;33m\u001b[0m\u001b[1;33m\u001b[0m\u001b[0m\n\u001b[0m\u001b[0;32m    834\u001b[0m                 \u001b[1;32melse\u001b[0m\u001b[1;33m:\u001b[0m\u001b[1;33m\u001b[0m\u001b[1;33m\u001b[0m\u001b[0m\n\u001b[0;32m    835\u001b[0m                     \u001b[0mself\u001b[0m\u001b[1;33m.\u001b[0m\u001b[0m_output\u001b[0m\u001b[1;33m.\u001b[0m\u001b[0mextend\u001b[0m\u001b[1;33m(\u001b[0m\u001b[0mjob\u001b[0m\u001b[1;33m.\u001b[0m\u001b[0mget\u001b[0m\u001b[1;33m(\u001b[0m\u001b[1;33m)\u001b[0m\u001b[1;33m)\u001b[0m\u001b[1;33m\u001b[0m\u001b[1;33m\u001b[0m\u001b[0m\n",
      "\u001b[1;32m~\\Anaconda3\\envs\\main_rcm\\lib\\site-packages\\sklearn\\externals\\joblib\\_parallel_backends.py\u001b[0m in \u001b[0;36mwrap_future_result\u001b[1;34m(future, timeout)\u001b[0m\n\u001b[0;32m    519\u001b[0m         AsyncResults.get from multiprocessing.\"\"\"\n\u001b[0;32m    520\u001b[0m         \u001b[1;32mtry\u001b[0m\u001b[1;33m:\u001b[0m\u001b[1;33m\u001b[0m\u001b[1;33m\u001b[0m\u001b[0m\n\u001b[1;32m--> 521\u001b[1;33m             \u001b[1;32mreturn\u001b[0m \u001b[0mfuture\u001b[0m\u001b[1;33m.\u001b[0m\u001b[0mresult\u001b[0m\u001b[1;33m(\u001b[0m\u001b[0mtimeout\u001b[0m\u001b[1;33m=\u001b[0m\u001b[0mtimeout\u001b[0m\u001b[1;33m)\u001b[0m\u001b[1;33m\u001b[0m\u001b[1;33m\u001b[0m\u001b[0m\n\u001b[0m\u001b[0;32m    522\u001b[0m         \u001b[1;32mexcept\u001b[0m \u001b[0mLokyTimeoutError\u001b[0m\u001b[1;33m:\u001b[0m\u001b[1;33m\u001b[0m\u001b[1;33m\u001b[0m\u001b[0m\n\u001b[0;32m    523\u001b[0m             \u001b[1;32mraise\u001b[0m \u001b[0mTimeoutError\u001b[0m\u001b[1;33m(\u001b[0m\u001b[1;33m)\u001b[0m\u001b[1;33m\u001b[0m\u001b[1;33m\u001b[0m\u001b[0m\n",
      "\u001b[1;32m~\\Anaconda3\\envs\\main_rcm\\lib\\concurrent\\futures\\_base.py\u001b[0m in \u001b[0;36mresult\u001b[1;34m(self, timeout)\u001b[0m\n\u001b[0;32m    425\u001b[0m                 \u001b[1;32mreturn\u001b[0m \u001b[0mself\u001b[0m\u001b[1;33m.\u001b[0m\u001b[0m__get_result\u001b[0m\u001b[1;33m(\u001b[0m\u001b[1;33m)\u001b[0m\u001b[1;33m\u001b[0m\u001b[1;33m\u001b[0m\u001b[0m\n\u001b[0;32m    426\u001b[0m \u001b[1;33m\u001b[0m\u001b[0m\n\u001b[1;32m--> 427\u001b[1;33m             \u001b[0mself\u001b[0m\u001b[1;33m.\u001b[0m\u001b[0m_condition\u001b[0m\u001b[1;33m.\u001b[0m\u001b[0mwait\u001b[0m\u001b[1;33m(\u001b[0m\u001b[0mtimeout\u001b[0m\u001b[1;33m)\u001b[0m\u001b[1;33m\u001b[0m\u001b[1;33m\u001b[0m\u001b[0m\n\u001b[0m\u001b[0;32m    428\u001b[0m \u001b[1;33m\u001b[0m\u001b[0m\n\u001b[0;32m    429\u001b[0m             \u001b[1;32mif\u001b[0m \u001b[0mself\u001b[0m\u001b[1;33m.\u001b[0m\u001b[0m_state\u001b[0m \u001b[1;32min\u001b[0m \u001b[1;33m[\u001b[0m\u001b[0mCANCELLED\u001b[0m\u001b[1;33m,\u001b[0m \u001b[0mCANCELLED_AND_NOTIFIED\u001b[0m\u001b[1;33m]\u001b[0m\u001b[1;33m:\u001b[0m\u001b[1;33m\u001b[0m\u001b[1;33m\u001b[0m\u001b[0m\n",
      "\u001b[1;32m~\\Anaconda3\\envs\\main_rcm\\lib\\threading.py\u001b[0m in \u001b[0;36mwait\u001b[1;34m(self, timeout)\u001b[0m\n\u001b[0;32m    294\u001b[0m         \u001b[1;32mtry\u001b[0m\u001b[1;33m:\u001b[0m    \u001b[1;31m# restore state no matter what (e.g., KeyboardInterrupt)\u001b[0m\u001b[1;33m\u001b[0m\u001b[1;33m\u001b[0m\u001b[0m\n\u001b[0;32m    295\u001b[0m             \u001b[1;32mif\u001b[0m \u001b[0mtimeout\u001b[0m \u001b[1;32mis\u001b[0m \u001b[1;32mNone\u001b[0m\u001b[1;33m:\u001b[0m\u001b[1;33m\u001b[0m\u001b[1;33m\u001b[0m\u001b[0m\n\u001b[1;32m--> 296\u001b[1;33m                 \u001b[0mwaiter\u001b[0m\u001b[1;33m.\u001b[0m\u001b[0macquire\u001b[0m\u001b[1;33m(\u001b[0m\u001b[1;33m)\u001b[0m\u001b[1;33m\u001b[0m\u001b[1;33m\u001b[0m\u001b[0m\n\u001b[0m\u001b[0;32m    297\u001b[0m                 \u001b[0mgotit\u001b[0m \u001b[1;33m=\u001b[0m \u001b[1;32mTrue\u001b[0m\u001b[1;33m\u001b[0m\u001b[1;33m\u001b[0m\u001b[0m\n\u001b[0;32m    298\u001b[0m             \u001b[1;32melse\u001b[0m\u001b[1;33m:\u001b[0m\u001b[1;33m\u001b[0m\u001b[1;33m\u001b[0m\u001b[0m\n",
      "\u001b[1;31mKeyboardInterrupt\u001b[0m: "
     ]
    }
   ],
   "source": [
    "pipeline = Pipeline([('tfidf', TfidfVectorizer()),\n",
    "                     ('clf', MultinomialNB())])\n",
    "\n",
    "grid = {'tfidf__max_df': [0.5, 0.75, 1.0],\n",
    "        'tfidf__max_features': np.arange(10000,100001,10000),\n",
    "        'tfidf__stop_words': [None],\n",
    "        'tfidf__ngram_range': [(1, 1), (1, 2), (1, 3)],\n",
    "        'tfidf__use_idf': [True, False],\n",
    "        'tfidf__norm': ['l1', 'l2'],\n",
    "        'tfidf__ngram_range': [(1, 1), (1, 2), (1, 3)],\n",
    "        'clf__alpha': [0.001, 0.01, 0.1, 1]}\n",
    "\n",
    "scoring = ['accuracy', 'recall', 'precision', 'f1']\n",
    "grid_search = GridSearchCV(pipeline, grid, cv=5, n_jobs=3, verbose=1,\n",
    "                          scoring=scoring, refit='accuracy')\n",
    "grid_search.fit(x_train, y_train)"
   ]
  },
  {
   "cell_type": "markdown",
   "metadata": {},
   "source": [
    "## Pipeline function (no PCA)"
   ]
  },
  {
   "cell_type": "markdown",
   "metadata": {},
   "source": [
    "Define function"
   ]
  },
  {
   "cell_type": "code",
   "execution_count": 94,
   "metadata": {
    "ExecuteTime": {
     "end_time": "2019-04-04T18:13:02.037015Z",
     "start_time": "2019-04-04T18:13:02.014565Z"
    },
    "collapsed": true
   },
   "outputs": [],
   "source": [
    "def clf_pipeline(clf, max_score, full_grid=None, clf_grid=None, pca_components=None):\n",
    "    # Define pipeline\n",
    "    pipeline = Pipeline([('tfidf', TfidfVectorizer()),\n",
    "                         ('clf', clf)])\n",
    "    \n",
    "    # Create full grid (if not passed)\n",
    "    if full_grid is None:\n",
    "        transf_grid = {'tfidf__max_df': [0.5, 0.75, 1.0],\n",
    "                       'tfidf__max_features': np.arange(10000,100001,10000),\n",
    "                       'tfidf__stop_words': [None],\n",
    "                       'tfidf__ngram_range': [(1, 1), (1, 2), (1, 3)],\n",
    "                       'tfidf__use_idf': [True, False],\n",
    "                       'tfidf__norm': [None, 'l1', 'l2'],\n",
    "                       'clf__alpha': [0.001, 0.01, 0.1, 1]}\n",
    "        full_grid = {**transf_grid, **clf_grid}\n",
    "    \n",
    "    # Fit GridSearch and return resulting object\n",
    "    scoring = ['accuracy', 'recall', 'precision', 'f1']\n",
    "    grid_search = GridSearchCV(pipeline, full_grid, cv=5, n_jobs=3, verbose=1,\n",
    "                              scoring=scoring, refit=max_score)\n",
    "    grid_search.fit(x_train, y_train)\n",
    "    \n",
    "    # Print best results\n",
    "    print(\"Best {0}: {1:.3f}\".format(max_score, grid_search.best_score_))\n",
    "    print(\"\\nBest parameters:\")\n",
    "    for param_name in grid_search.best_params_.keys():\n",
    "        print('{0}: {1}'.format(param_name, grid_search.best_params_[param_name]))\n",
    "    \n",
    "    return grid_search"
   ]
  },
  {
   "cell_type": "markdown",
   "metadata": {},
   "source": [
    "Test function (compare to 8.1)"
   ]
  },
  {
   "cell_type": "code",
   "execution_count": 87,
   "metadata": {
    "ExecuteTime": {
     "end_time": "2019-04-04T18:08:48.330131Z",
     "start_time": "2019-04-04T18:08:10.768585Z"
    }
   },
   "outputs": [
    {
     "name": "stdout",
     "output_type": "stream",
     "text": [
      "Fitting 5 folds for each of 1 candidates, totalling 5 fits\n"
     ]
    },
    {
     "name": "stderr",
     "output_type": "stream",
     "text": [
      "[Parallel(n_jobs=3)]: Using backend LokyBackend with 3 concurrent workers.\n",
      "[Parallel(n_jobs=3)]: Done   5 out of   5 | elapsed:   30.0s finished\n"
     ]
    },
    {
     "name": "stdout",
     "output_type": "stream",
     "text": [
      "Best accuracy: 0.903\n",
      "\n",
      "Best parameters:\n",
      "clf__C: 1\n",
      "clf__penalty: l2\n",
      "clf__solver: liblinear\n",
      "tfidf__max_df: 1.0\n",
      "tfidf__max_features: 10000\n",
      "tfidf__ngram_range: (1, 1)\n",
      "tfidf__norm: None\n",
      "tfidf__stop_words: None\n",
      "tfidf__use_idf: False\n",
      "\n",
      "Accuracy (dev set) = 0.9017\n"
     ]
    }
   ],
   "source": [
    "grid = {'tfidf__max_df': [1.0],\n",
    "        'tfidf__max_features': [10000],\n",
    "        'tfidf__stop_words': [None],\n",
    "        'tfidf__ngram_range': [(1, 1)],\n",
    "        'tfidf__use_idf': [False],\n",
    "        'tfidf__norm': [None],\n",
    "        'clf__penalty': ['l2'],\n",
    "        'clf__solver': ['liblinear'],\n",
    "        'clf__C': [1]}\n",
    "\n",
    "clf_gs = clf_pipeline(clf=LogisticRegression(), full_grid=grid, max_score='accuracy')\n",
    "\n",
    "# Results with dev set\n",
    "pred_dev = clf_gs.predict(x_dev)\n",
    "acc_dev = metrics.accuracy_score(y_dev, pred_dev)\n",
    "print('\\nAccuracy (dev set) = {:.4f}'.format(acc_dev))"
   ]
  },
  {
   "cell_type": "markdown",
   "metadata": {},
   "source": [
    "## Pipeline function (Dimensionality reduction)"
   ]
  },
  {
   "cell_type": "markdown",
   "metadata": {},
   "source": [
    "Dimensionality reduction analysis"
   ]
  },
  {
   "cell_type": "code",
   "execution_count": 24,
   "metadata": {
    "ExecuteTime": {
     "end_time": "2019-04-05T16:45:30.803176Z",
     "start_time": "2019-04-05T16:44:45.452419Z"
    }
   },
   "outputs": [
    {
     "data": {
      "image/png": "[encoded data removed]",
      "text/plain": [
       "<Figure size 1080x360 with 2 Axes>"
      ]
     },
     "metadata": {
      "needs_background": "light"
     },
     "output_type": "display_data"
    }
   ],
   "source": [
    "# Fit 100 first components\n",
    "x_train_vect = CountVectorizer().fit_transform(x_train)\n",
    "dim_reductor = TruncatedSVD(n_components=100).fit(x_train_vect)\n",
    "x_train_dimred = dim_reductor.transform(x_train_vect)\n",
    "explained = dim_reductor.explained_variance_ratio_\n",
    "\n",
    "# Create figure with two plots\n",
    "fig, (ax1, ax2) = plt.subplots(1, 2, figsize=(15, 5))\n",
    "\n",
    "# Plot explained variance ratio\n",
    "ax1.plot([i for i in range(100)], explained)\n",
    "ax1.set_title(\"Explained variance per component\")\n",
    "ax1.set_xticks(range(0, 101, 5));\n",
    "ax1.set_xlabel(\"component\")\n",
    "ax1.set_ylabel(\"Explained variance ratio\")\n",
    "ax1.grid(axis='x');\n",
    "ax1.grid(axis='y');\n",
    "\n",
    "# Plot cummulative explained variance ratio \n",
    "ax2.plot([i for i in range(100)], np.cumsum(explained))\n",
    "ax2.set_title(\"Explained variance per component (cummulative)\")\n",
    "ax2.set_xticks(range(0, 101, 5));\n",
    "ax2.set_xlabel(\"Component\")\n",
    "ax2.set_ylabel(\"Explained variance ratio (cummulative)\")\n",
    "ax2.grid(axis='x');\n",
    "ax2.grid(axis='y');"
   ]
  },
  {
   "cell_type": "markdown",
   "metadata": {},
   "source": [
    "Define function"
   ]
  },
  {
   "cell_type": "code",
   "execution_count": 108,
   "metadata": {
    "ExecuteTime": {
     "end_time": "2019-04-04T18:45:27.328498Z",
     "start_time": "2019-04-04T18:45:27.305593Z"
    },
    "collapsed": true
   },
   "outputs": [],
   "source": [
    "def pca_clf_pipeline(clf, max_score, full_grid=None, clf_grid=None, pca_components=None):\n",
    "    # Define pipeline\n",
    "    pipeline = Pipeline([('tfidf', TfidfVectorizer()),\n",
    "                         ('dim_red', TruncatedSVD(random_state=123)),\n",
    "                         ('clf', clf)])\n",
    "    \n",
    "    # Create full grid (if not passed)\n",
    "    if full_grid is None:\n",
    "        transf_grid = {'tfidf__max_df': [0.5, 0.75, 1.0],\n",
    "                       'tfidf__max_features': np.arange(10000,100001,10000),\n",
    "                       'tfidf__stop_words': [None],\n",
    "                       'tfidf__ngram_range': [(1, 1), (1, 2), (1, 3)],\n",
    "                       'tfidf__use_idf': [True, False],\n",
    "                       'tfidf__norm': [None, 'l1', 'l2'],\n",
    "                       'dim_red__n_components': [2],\n",
    "                       'clf__alpha': [0.001, 0.01, 0.1, 1]}\n",
    "        full_grid = {**transf_grid, **clf_grid}\n",
    "    \n",
    "    # Fit GridSearch and return resulting object\n",
    "    scoring = ['accuracy', 'recall', 'precision', 'f1']\n",
    "    grid_search = GridSearchCV(pipeline, full_grid, cv=5, n_jobs=3, verbose=1,\n",
    "                              scoring=scoring, refit=max_score)\n",
    "    grid_search.fit(x_train, y_train)    \n",
    "    \n",
    "    # Print best results\n",
    "    print(\"Best {0}: {1:.3f}\".format(max_score, grid_search.best_score_))\n",
    "    print(\"\\nBest parameters:\")\n",
    "    for param_name in grid_search.best_params_.keys():\n",
    "        print('{0}: {1}'.format(param_name, grid_search.best_params_[param_name]))\n",
    "        \n",
    "    return grid_search"
   ]
  },
  {
   "cell_type": "markdown",
   "metadata": {},
   "source": [
    "Test with `n_components`=1,000"
   ]
  },
  {
   "cell_type": "code",
   "execution_count": 104,
   "metadata": {
    "ExecuteTime": {
     "end_time": "2019-04-04T18:40:52.920077Z",
     "start_time": "2019-04-04T18:22:53.789079Z"
    },
    "scrolled": true
   },
   "outputs": [
    {
     "name": "stdout",
     "output_type": "stream",
     "text": [
      "Fitting 5 folds for each of 1 candidates, totalling 5 fits\n"
     ]
    },
    {
     "name": "stderr",
     "output_type": "stream",
     "text": [
      "[Parallel(n_jobs=3)]: Using backend LokyBackend with 3 concurrent workers.\n",
      "[Parallel(n_jobs=3)]: Done   5 out of   5 | elapsed: 15.7min finished\n"
     ]
    },
    {
     "name": "stdout",
     "output_type": "stream",
     "text": [
      "Best accuracy: 0.885\n",
      "\n",
      "Best parameters:\n",
      "clf__C: 1\n",
      "clf__penalty: l2\n",
      "clf__solver: liblinear\n",
      "pca__n_components: 1000\n",
      "tfidf__max_df: 1.0\n",
      "tfidf__max_features: 10000\n",
      "tfidf__ngram_range: (1, 1)\n",
      "tfidf__norm: None\n",
      "tfidf__stop_words: None\n",
      "tfidf__use_idf: False\n",
      "\n",
      "Accuracy (dev set) = 0.8840\n"
     ]
    }
   ],
   "source": [
    "grid = {'tfidf__max_df': [1.0],\n",
    "        'tfidf__max_features': [10000],\n",
    "        'tfidf__stop_words': [None],\n",
    "        'tfidf__ngram_range': [(1, 1)],\n",
    "        'tfidf__use_idf': [False],\n",
    "        'tfidf__norm': [None],\n",
    "        'dim_red__n_components': [1000],\n",
    "        'clf__penalty': ['l2'],\n",
    "        'clf__solver': ['liblinear'],\n",
    "        'clf__C': [1]}\n",
    "\n",
    "clf_gs = pca_clf_pipeline(clf=LogisticRegression(), full_grid=grid, max_score='accuracy')\n",
    "\n",
    "# Results with dev set\n",
    "pred_dev = clf_gs.predict(x_dev)\n",
    "acc_dev = metrics.accuracy_score(y_dev, pred_dev)\n",
    "print('\\nAccuracy (dev set) = {:.4f}'.format(acc_dev))"
   ]
  },
  {
   "cell_type": "markdown",
   "metadata": {},
   "source": [
    "Test with and without dimensionality reduction"
   ]
  },
  {
   "cell_type": "code",
   "execution_count": 131,
   "metadata": {
    "ExecuteTime": {
     "end_time": "2019-04-04T19:06:41.661560Z",
     "start_time": "2019-04-04T19:05:31.396416Z"
    },
    "scrolled": true
   },
   "outputs": [
    {
     "name": "stdout",
     "output_type": "stream",
     "text": [
      "Fitting 5 folds for each of 2 candidates, totalling 10 fits\n"
     ]
    },
    {
     "name": "stderr",
     "output_type": "stream",
     "text": [
      "[Parallel(n_jobs=3)]: Using backend LokyBackend with 3 concurrent workers.\n",
      "[Parallel(n_jobs=3)]: Done  10 out of  10 | elapsed:  1.1min finished\n"
     ]
    },
    {
     "name": "stdout",
     "output_type": "stream",
     "text": [
      "Best accuracy: 0.903\n",
      "\n",
      "Best parameters:\n",
      "clf__C: 1\n",
      "clf__penalty: l2\n",
      "clf__solver: liblinear\n",
      "dim_red: None\n",
      "tfidf__max_df: 1.0\n",
      "tfidf__max_features: 10000\n",
      "tfidf__ngram_range: (1, 1)\n",
      "tfidf__norm: None\n",
      "tfidf__stop_words: None\n",
      "tfidf__use_idf: False\n",
      "\n",
      "Accuracy (dev set) = 0.9017\n"
     ]
    }
   ],
   "source": [
    "grid = {'tfidf__max_df': [1.0],\n",
    "        'tfidf__max_features': [10000],\n",
    "        'tfidf__stop_words': [None],\n",
    "        'tfidf__ngram_range': [(1, 1)],\n",
    "        'tfidf__use_idf': [False],\n",
    "        'tfidf__norm': [None],\n",
    "        'dim_red': [None, TruncatedSVD(30, random_state=123)],\n",
    "        'clf__penalty': ['l2'],\n",
    "        'clf__solver': ['liblinear'],\n",
    "        'clf__C': [1]}\n",
    "\n",
    "clf_gs = pca_clf_pipeline(clf=LogisticRegression(), full_grid=grid, max_score='accuracy')\n",
    "\n",
    "# Results with dev set\n",
    "pred_dev = clf_gs.predict(x_dev)\n",
    "acc_dev = metrics.accuracy_score(y_dev, pred_dev)\n",
    "print('\\nAccuracy (dev set) = {:.4f}'.format(acc_dev))"
   ]
  },
  {
   "cell_type": "markdown",
   "metadata": {},
   "source": [
    "# ML Pipeline"
   ]
  },
  {
   "cell_type": "markdown",
   "metadata": {},
   "source": [
    "Define function"
   ]
  },
  {
   "cell_type": "code",
   "execution_count": 4,
   "metadata": {
    "ExecuteTime": {
     "end_time": "2019-04-04T19:46:01.766705Z",
     "start_time": "2019-04-04T19:46:01.754735Z"
    },
    "collapsed": true
   },
   "outputs": [],
   "source": [
    "def grid_search(train_data, train_labels, clf, grid, max_score):\n",
    "    # Define pipeline\n",
    "    pipeline = Pipeline([('tfidf', TfidfVectorizer()),\n",
    "                         ('dim_red', TruncatedSVD(random_state=123)),\n",
    "                         ('clf', clf)])\n",
    "    \n",
    "    # Fit GridSearch and return resulting object\n",
    "    scoring = ['accuracy', 'recall', 'precision', 'f1']\n",
    "    grid_search = GridSearchCV(pipeline, grid, cv=5, n_jobs=3, verbose=1,\n",
    "                              scoring=scoring, refit=max_score)\n",
    "    grid_search.fit(train_data, train_labels)    \n",
    "    \n",
    "    # Print best results\n",
    "    print(\"Best {0}: {1:.3f}\".format(max_score, grid_search.best_score_))\n",
    "    print(\"\\nBest parameters:\")\n",
    "    for param_name in grid_search.best_params_.keys():\n",
    "        print('{0}: {1}'.format(param_name, grid_search.best_params_[param_name]))\n",
    "        \n",
    "    return grid_search"
   ]
  },
  {
   "cell_type": "markdown",
   "metadata": {},
   "source": [
    "Find best parameters for logistic regression"
   ]
  },
  {
   "cell_type": "code",
   "execution_count": 8,
   "metadata": {
    "ExecuteTime": {
     "end_time": "2019-04-04T19:49:33.757267Z",
     "start_time": "2019-04-04T19:48:59.588294Z"
    }
   },
   "outputs": [
    {
     "name": "stdout",
     "output_type": "stream",
     "text": [
      "Fitting 5 folds for each of 1 candidates, totalling 5 fits\n"
     ]
    },
    {
     "name": "stderr",
     "output_type": "stream",
     "text": [
      "[Parallel(n_jobs=3)]: Using backend LokyBackend with 3 concurrent workers.\n",
      "[Parallel(n_jobs=3)]: Done   5 out of   5 | elapsed:   27.6s finished\n"
     ]
    },
    {
     "name": "stdout",
     "output_type": "stream",
     "text": [
      "Best accuracy: 0.903\n",
      "\n",
      "Best parameters:\n",
      "clf__C: 1\n",
      "clf__penalty: l2\n",
      "clf__solver: liblinear\n",
      "dim_red: None\n",
      "tfidf__max_df: 1.0\n",
      "tfidf__max_features: 10000\n",
      "tfidf__ngram_range: (1, 1)\n",
      "tfidf__norm: None\n",
      "tfidf__stop_words: None\n",
      "tfidf__use_idf: False\n",
      "\n",
      "Accuracy (dev set) = 0.9017\n"
     ]
    }
   ],
   "source": [
    "grid = {'tfidf__max_df': np.arange(0, 1.01, 0.25) ,\n",
    "        'tfidf__max_features': np.arange(10000,100001,10000),\n",
    "        'tfidf__stop_words': [None, 'english'],\n",
    "        'tfidf__ngram_range': [(1, 1), (1, 2), (1, 3)],\n",
    "        'tfidf__use_idf': [False, True],\n",
    "        'tfidf__norm': [None, 'l1', 'l2'],\n",
    "        'dim_red': [None, TruncatedSVD(30, random_state=123)],\n",
    "        'clf__penalty': ['l1', 'l2'],\n",
    "        'clf__solver': ['saga'],\n",
    "        'clf__C': [0.0001, 0.01, 0.1, 1, 10, 100]}\n",
    "\n",
    "clf_gs = grid_search(x_train, y_train, LogisticRegression(), grid, 'accuracy')\n",
    "\n",
    "# Results with dev set\n",
    "pred_dev = clf_gs.predict(x_dev)\n",
    "acc_dev = metrics.accuracy_score(y_dev, pred_dev)\n",
    "print('\\nAccuracy (dev set) = {:.4f}'.format(acc_dev))"
   ]
  },
  {
   "cell_type": "markdown",
   "metadata": {},
   "source": [
    "### Questions\n",
    " 1. Do we need dev set?"
   ]
  }
 ],
 "metadata": {
  "kernelspec": {
   "display_name": "Python 3",
   "language": "python",
   "name": "python3"
  },
  "language_info": {
   "codemirror_mode": {
    "name": "ipython",
    "version": 3
   },
   "file_extension": ".py",
   "mimetype": "text/x-python",
   "name": "python",
   "nbconvert_exporter": "python",
   "pygments_lexer": "ipython3",
   "version": "3.6.8"
  },
  "toc": {
   "base_numbering": 1,
   "nav_menu": {},
   "number_sections": true,
   "sideBar": true,
   "skip_h1_title": false,
   "title_cell": "Table of Contents",
   "title_sidebar": "Contents",
   "toc_cell": false,
   "toc_position": {},
   "toc_section_display": true,
   "toc_window_display": true
  },
  "varInspector": {
   "cols": {
    "lenName": 16,
    "lenType": 16,
    "lenVar": 40
   },
   "kernels_config": {
    "python": {
     "delete_cmd_postfix": "",
     "delete_cmd_prefix": "del ",
     "library": "var_list.py",
     "varRefreshCmd": "print(var_dic_list())"
    },
    "r": {
     "delete_cmd_postfix": ") ",
     "delete_cmd_prefix": "rm(",
     "library": "var_list.r",
     "varRefreshCmd": "cat(var_dic_list()) "
    }
   },
   "types_to_exclude": [
    "module",
    "function",
    "builtin_function_or_method",
    "instance",
    "_Feature"
   ],
   "window_display": false
  }
 },
 "nbformat": 4,
 "nbformat_minor": 2
}
