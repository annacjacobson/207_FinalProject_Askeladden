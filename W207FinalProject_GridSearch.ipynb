{
 "cells": [
  {
   "cell_type": "markdown",
   "metadata": {},
   "source": [
    "# The Askeladden Algorithm - GridSearch <a class=\"tocSkip\">"
   ]
  },
  {
   "cell_type": "markdown",
   "metadata": {},
   "source": [
    "## W207 | Applied Machine Learning | Spring 2019<a class=\"tocSkip\">"
   ]
  },
  {
   "cell_type": "markdown",
   "metadata": {},
   "source": [
    "### Team Troll Trappers: Laura Pintos, Ramiro Cadavid, and Anna Jacobson<a class=\"tocSkip\">"
   ]
  },
  {
   "cell_type": "markdown",
   "metadata": {},
   "source": [
    "# Import data"
   ]
  },
  {
   "cell_type": "code",
   "execution_count": 65,
   "metadata": {
    "ExecuteTime": {
     "end_time": "2019-04-14T01:45:26.931534Z",
     "start_time": "2019-04-14T01:45:26.922271Z"
    },
    "collapsed": true
   },
   "outputs": [],
   "source": [
    "import pandas as pd\n",
    "import matplotlib.pyplot as plt\n",
    "from sklearn.utils.multiclass import unique_labels\n",
    "from sklearn.model_selection import train_test_split\n",
    "from sklearn.model_selection import GridSearchCV\n",
    "from sklearn.pipeline import Pipeline\n",
    "from sklearn.externals import joblib\n",
    "from sklearn.feature_extraction.text import CountVectorizer\n",
    "from sklearn.feature_extraction.text import TfidfVectorizer\n",
    "from sklearn.linear_model import LogisticRegression\n",
    "from sklearn.metrics import accuracy_score\n",
    "from sklearn.metrics import confusion_matrix"
   ]
  },
  {
   "cell_type": "code",
   "execution_count": 11,
   "metadata": {
    "ExecuteTime": {
     "end_time": "2019-04-13T19:46:42.504400Z",
     "start_time": "2019-04-13T19:46:40.715214Z"
    }
   },
   "outputs": [
    {
     "name": "stdout",
     "output_type": "stream",
     "text": [
      "training data shape: (190323,)\n",
      "development data shape: (63441,)\n",
      "test data shape: (63442,)\n",
      "labels names: ['real', 'troll']\n"
     ]
    }
   ],
   "source": [
    "df = pd.read_csv(\"news_tweets_big.csv\", index_col=0)\n",
    "\n",
    "d = {'real':0, 'troll':1}\n",
    "df['category'] = df['category'].map(d)\n",
    "\n",
    "my_df = pd.DataFrame(df,columns=['tweet_text'])\n",
    "my_df['target'] = df.category\n",
    "\n",
    "x = my_df.tweet_text\n",
    "y = my_df.target\n",
    "seed = 2019\n",
    "\n",
    "x_train, x_dev_and_test, y_train, y_dev_and_test = train_test_split(x, y, test_size=0.4, random_state=seed)\n",
    "x_dev, x_test, y_dev, y_test = train_test_split(x_dev_and_test, y_dev_and_test, test_size=0.5, random_state=seed)\n",
    "targets = ['real','troll']\n",
    "\n",
    "print('training data shape:', x_train.shape)\n",
    "print('development data shape:', x_dev.shape)\n",
    "print('test data shape:', x_test.shape)\n",
    "print('labels names:', targets)"
   ]
  },
  {
   "cell_type": "markdown",
   "metadata": {},
   "source": [
    "# GridSearchCV"
   ]
  },
  {
   "cell_type": "markdown",
   "metadata": {},
   "source": [
    "**Define functions**"
   ]
  },
  {
   "cell_type": "code",
   "execution_count": 91,
   "metadata": {
    "ExecuteTime": {
     "end_time": "2019-04-14T01:58:02.460206Z",
     "start_time": "2019-04-14T01:58:02.436300Z"
    },
    "collapsed": true
   },
   "outputs": [],
   "source": [
    "def grid_search(train_data, train_labels, clf, grid, max_score, cv):\n",
    "    # Define pipeline\n",
    "    pipeline = Pipeline([('vectorizer', TfidfVectorizer()),\n",
    "                         ('clf', clf)])\n",
    "    \n",
    "    # Fit GridSearch\n",
    "    scoring = ['accuracy', 'recall', 'precision', 'f1']\n",
    "    grid_search = GridSearchCV(pipeline, grid, cv=cv, n_jobs=3, verbose=1,\n",
    "                              scoring=scoring, refit=max_score)\n",
    "    grid_search.fit(train_data, train_labels)    \n",
    "    \n",
    "    # Print best results\n",
    "    print(\"Best {0}: {1:.3f}\".format(max_score, grid_search.best_score_))\n",
    "    print(\"\\nBest parameters:\")\n",
    "    for param_name in grid_search.best_params_.keys():\n",
    "        print('{0}: {1}'.format(param_name, grid_search.best_params_[param_name]))\n",
    "        \n",
    "    return grid_search\n",
    "\n",
    "\n",
    "def plot_confusion_matrix(y_true, y_pred, classes,\n",
    "                          normalize=False,\n",
    "                          title=None,\n",
    "                          cmap=plt.cm.Blues):\n",
    "    \"\"\"\n",
    "    This function prints and plots the confusion matrix.\n",
    "    Normalization can be applied by setting `normalize=True`.\n",
    "    \"\"\"\n",
    "    if not title:\n",
    "        if normalize:\n",
    "            title = 'Normalized confusion matrix'\n",
    "        else:\n",
    "            title = 'Confusion matrix, without normalization'\n",
    "\n",
    "    # Compute confusion matrix\n",
    "    cm = confusion_matrix(y_true, y_pred)\n",
    "    if normalize:\n",
    "        cm = cm.astype('float') / cm.sum(axis=1)[:, np.newaxis]\n",
    "    fig, ax = plt.subplots()\n",
    "    im = ax.imshow(cm, interpolation='nearest', cmap=cmap)\n",
    "    ax.figure.colorbar(im, ax=ax)\n",
    "    # We want to show all ticks...\n",
    "    ax.set(xticks=np.arange(cm.shape[1]),\n",
    "           yticks=np.arange(cm.shape[0]),\n",
    "           # ... and label them with the respective list entries\n",
    "           xticklabels=classes, yticklabels=classes,\n",
    "           title=title,\n",
    "           ylabel='True label',\n",
    "           xlabel='Predicted label')\n",
    "\n",
    "    # Rotate the tick labels and set their alignment.\n",
    "    plt.setp(ax.get_xticklabels(), rotation=45, ha=\"right\",\n",
    "             rotation_mode=\"anchor\")\n",
    "\n",
    "    # Loop over data dimensions and create text annotations.\n",
    "    fmt = '.2f' if normalize else 'd'\n",
    "    thresh = cm.max() / 2.\n",
    "    for i in range(cm.shape[0]):\n",
    "        for j in range(cm.shape[1]):\n",
    "            ax.text(j, i, format(cm[i, j], fmt),\n",
    "                    ha=\"center\", va=\"center\",\n",
    "                    color=\"white\" if cm[i, j] > thresh else \"black\")\n",
    "    fig.tight_layout()\n",
    "    return ax"
   ]
  },
  {
   "cell_type": "markdown",
   "metadata": {},
   "source": [
    "**Fit GridSearchCV for logistic regression**"
   ]
  },
  {
   "cell_type": "markdown",
   "metadata": {},
   "source": [
    "Test grid"
   ]
  },
  {
   "cell_type": "code",
   "execution_count": 102,
   "metadata": {
    "ExecuteTime": {
     "end_time": "2019-04-14T02:11:49.722827Z",
     "start_time": "2019-04-14T02:07:26.005162Z"
    },
    "scrolled": true
   },
   "outputs": [
    {
     "name": "stdout",
     "output_type": "stream",
     "text": [
      "Fitting 10 folds for each of 1 candidates, totalling 10 fits\n"
     ]
    },
    {
     "name": "stderr",
     "output_type": "stream",
     "text": [
      "[Parallel(n_jobs=3)]: Using backend LokyBackend with 3 concurrent workers.\n",
      "[Parallel(n_jobs=3)]: Done  10 out of  10 | elapsed:  4.0min finished\n"
     ]
    },
    {
     "name": "stdout",
     "output_type": "stream",
     "text": [
      "Best accuracy: 0.886\n",
      "\n",
      "Best parameters:\n",
      "clf__C: 1.8\n",
      "clf__fit_intercept: True\n",
      "clf__multi_class: multinomial\n",
      "clf__penalty: l2\n",
      "clf__random_state: 2019\n",
      "clf__solver: saga\n",
      "vectorizer__analyzer: word\n",
      "vectorizer__max_df: 1.0\n",
      "vectorizer__max_features: 100000\n",
      "vectorizer__ngram_range: (1, 2)\n",
      "vectorizer__stop_words: None\n",
      "vectorizer__token_pattern: \\b\\w+\\b\n",
      "vectorizer__use_idf: False\n",
      "\n",
      "Accuracy (dev set) = 0.8878\n"
     ]
    },
    {
     "data": {
      "text/plain": [
       "<matplotlib.axes._subplots.AxesSubplot at 0x1df3f1b6278>"
      ]
     },
     "execution_count": 102,
     "metadata": {},
     "output_type": "execute_result"
    },
    {
     "data": {
      "image/png": "[encoded data removed]",
      "text/plain": [
       "<Figure size 432x288 with 2 Axes>"
      ]
     },
     "metadata": {
      "needs_background": "light"
     },
     "output_type": "display_data"
    },
    {
     "data": {
      "image/png": "[encoded data removed]",
      "text/plain": [
       "<Figure size 432x288 with 2 Axes>"
      ]
     },
     "metadata": {
      "needs_background": "light"
     },
     "output_type": "display_data"
    }
   ],
   "source": [
    "\"\"\"\n",
    "Find best model\n",
    "\"\"\"\n",
    "\n",
    "grid = {'vectorizer__max_df': [1.0],\n",
    "        'vectorizer__max_features': [100000],\n",
    "        'vectorizer__stop_words': [None],\n",
    "        'vectorizer__token_pattern': [r'\\b\\w+\\b'],\n",
    "        'vectorizer__ngram_range': [(1, 2)],\n",
    "        'vectorizer__analyzer': ['word'],\n",
    "        'vectorizer__use_idf': [False],\n",
    "        'clf__fit_intercept': [True],\n",
    "        'clf__penalty': ['l2'],\n",
    "        'clf__solver': ['saga'],\n",
    "        'clf__multi_class': ['multinomial'],\n",
    "        'clf__C': [1.8],\n",
    "        'clf__random_state': [2019]}\n",
    "\n",
    "clf_gs = grid_search(x_train, y_train, LogisticRegression(), grid, 'accuracy', 10)\n",
    "\n",
    "\"\"\"\n",
    "Development set accuracy\n",
    "\"\"\"\n",
    "\n",
    "pred_dev = clf_gs.predict(x_dev)\n",
    "acc_dev = accuracy_score(y_dev, pred_dev)\n",
    "print('\\nAccuracy (dev set) = {:.4f}'.format(acc_dev))\n",
    "\n",
    "# Plot non-normalized confusion matrix\n",
    "plot_confusion_matrix(y_dev, pred_dev, classes=['Real', 'Troll'],\n",
    "                      title='Confusion matrix (dev set)')\n",
    "\n",
    "# Plot normalized confusion matrix\n",
    "plot_confusion_matrix(y_dev, pred_dev, classes=['Real', 'Troll'], normalize=True,\n",
    "                      title='Normalized confusion matrix (dev set)')"
   ]
  },
  {
   "cell_type": "markdown",
   "metadata": {},
   "source": [
    "Full grid"
   ]
  },
  {
   "cell_type": "code",
   "execution_count": 105,
   "metadata": {
    "ExecuteTime": {
     "end_time": "2019-04-14T02:14:42.331073Z",
     "start_time": "2019-04-14T02:14:42.323670Z"
    },
    "collapsed": true
   },
   "outputs": [],
   "source": [
    "\"\"\"\n",
    "Find best model\n",
    "\"\"\"\n",
    "\n",
    "grid = {'vectorizer__max_df': [float(i) for i in np.arange(0, 1.01, 0.25)],\n",
    "        'vectorizer__max_features': np.append([10000], np.arange(100000, 1000000, 200000)),\n",
    "        'vectorizer__stop_words': [None],\n",
    "        'vectorizer__ngram_range': [(1, 2), (1, 3)],\n",
    "        'vectorizer__analyzar': ['word'],\n",
    "        'vectorizer__use_idf': [True, False],\n",
    "        'clf_fit_intercept': [True, False],\n",
    "        'clf__penalty': ['l1', 'l2'],\n",
    "        'clf__solver': ['saga'],\n",
    "        'clf__C': [0.00001, 0.0001, 0.001, 0.01, 0.1, 1, 2, 5, 10, 100, 1000],\n",
    "        'clf__random_state': [2019]}\n",
    "\n",
    "clf_gs = grid_search(x_train, y_train, LogisticRegression(), grid, 'accuracy', 5)\n",
    "\n",
    "\"\"\"\n",
    "Development set accuracy\n",
    "\"\"\"\n",
    "\n",
    "pred_dev = clf_gs.predict(x_dev)\n",
    "acc_dev = accuracy_score(y_dev, pred_dev)\n",
    "print('\\nAccuracy (dev set) = {:.4f}'.format(acc_dev))\n",
    "\n",
    "# Plot non-normalized confusion matrix\n",
    "plot_confusion_matrix(y_dev, pred_dev, classes=['Real', 'Troll'],\n",
    "                      title='Confusion matrix (dev set)')\n",
    "\n",
    "# Plot normalized confusion matrix\n",
    "plot_confusion_matrix(y_dev, pred_dev, classes=['Real', 'Troll'], normalize=True,\n",
    "                      title='Normalized confusion matrix (dev set)')"
   ]
  },
  {
   "cell_type": "markdown",
   "metadata": {},
   "source": [
    "Fine grained grid"
   ]
  },
  {
   "cell_type": "markdown",
   "metadata": {},
   "source": [
    "# Store/retrieve models"
   ]
  },
  {
   "cell_type": "markdown",
   "metadata": {},
   "source": [
    "Store model"
   ]
  },
  {
   "cell_type": "code",
   "execution_count": null,
   "metadata": {
    "collapsed": true
   },
   "outputs": [],
   "source": [
    "# Store GridSearchCV object\n",
    "joblib.dump(clf_gs, 'Models/logreg_gscv.pkl', compress=1, protocol=pickle.HIGHEST_PROTOCOL)\n",
    "\n",
    "# Store best estimator\n",
    "joblib.dump(clf_gs.best_estimator_, 'Models/logreg_gscv_best.pkl', protocol=pickle.HIGHEST_PROTOCOL)"
   ]
  },
  {
   "cell_type": "markdown",
   "metadata": {},
   "source": [
    "Retrieve model"
   ]
  },
  {
   "cell_type": "code",
   "execution_count": null,
   "metadata": {
    "collapsed": true
   },
   "outputs": [],
   "source": [
    "# Retrieve GridSearchCV object\n",
    "clf_gs = joblib.load('Models/logreg_gscv.pkl')\n",
    "\n",
    "#Retrieve best estimator\n",
    "clf_best = joblib.load('Models/logreg_gscv_best.pkl')"
   ]
  }
 ],
 "metadata": {
  "kernelspec": {
   "display_name": "Python 3",
   "language": "python",
   "name": "python3"
  },
  "language_info": {
   "codemirror_mode": {
    "name": "ipython",
    "version": 3
   },
   "file_extension": ".py",
   "mimetype": "text/x-python",
   "name": "python",
   "nbconvert_exporter": "python",
   "pygments_lexer": "ipython3",
   "version": "3.6.8"
  },
  "toc": {
   "base_numbering": 1,
   "nav_menu": {},
   "number_sections": true,
   "sideBar": true,
   "skip_h1_title": false,
   "title_cell": "Table of Contents",
   "title_sidebar": "Contents",
   "toc_cell": false,
   "toc_position": {},
   "toc_section_display": true,
   "toc_window_display": true
  },
  "varInspector": {
   "cols": {
    "lenName": 16,
    "lenType": 16,
    "lenVar": 40
   },
   "kernels_config": {
    "python": {
     "delete_cmd_postfix": "",
     "delete_cmd_prefix": "del ",
     "library": "var_list.py",
     "varRefreshCmd": "print(var_dic_list())"
    },
    "r": {
     "delete_cmd_postfix": ") ",
     "delete_cmd_prefix": "rm(",
     "library": "var_list.r",
     "varRefreshCmd": "cat(var_dic_list()) "
    }
   },
   "types_to_exclude": [
    "module",
    "function",
    "builtin_function_or_method",
    "instance",
    "_Feature"
   ],
   "window_display": false
  }
 },
 "nbformat": 4,
 "nbformat_minor": 2
}
